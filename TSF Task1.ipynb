{
 "cells": [
  {
   "cell_type": "markdown",
   "id": "3525b310",
   "metadata": {},
   "source": [
    "# The Sparks Foundation Internship\n",
    "## Task 1 - Data Science and Business Analytics\n",
    "## Prediction Using Supervised ML\n",
    "* Predict the percentage of a student based on the number of hours studied.\n",
    "* Data can be found at 'http://bit.ly/w-data'.\n",
    "* To predict the score if a student studies for 9.25 hours per day."
   ]
  },
  {
   "cell_type": "markdown",
   "id": "8a95ac28",
   "metadata": {},
   "source": [
    "## Name : Nawaz Siddiqui"
   ]
  },
  {
   "cell_type": "markdown",
   "id": "5b4231b5",
   "metadata": {},
   "source": [
    "### Importing required libraries"
   ]
  },
  {
   "cell_type": "code",
   "execution_count": 1,
   "id": "a2b7a6c6",
   "metadata": {},
   "outputs": [],
   "source": [
    "import numpy as np                                     # Required for mathematical operations\n",
    "import pandas as pd                                    # Required for data manupilation and storage\n",
    "import matplotlib.pyplot as plt                        # Required for plotting\n",
    "import seaborn as sns                                  # Required for plotting\n",
    "from sklearn.linear_model import LinearRegression      # Required for creating ML model\n",
    "from sklearn.model_selection import train_test_split   # Required for splitting the data in training and testing sets\n",
    "from sklearn.metrics import mean_squared_error         # Required to get the performance of the ML model"
   ]
  },
  {
   "cell_type": "markdown",
   "id": "aa33bf3b",
   "metadata": {},
   "source": [
    "### Reading the data"
   ]
  },
  {
   "cell_type": "code",
   "execution_count": 2,
   "id": "d0fef98e",
   "metadata": {
    "scrolled": true
   },
   "outputs": [
    {
     "data": {
      "text/html": [
       "<div>\n",
       "<style scoped>\n",
       "    .dataframe tbody tr th:only-of-type {\n",
       "        vertical-align: middle;\n",
       "    }\n",
       "\n",
       "    .dataframe tbody tr th {\n",
       "        vertical-align: top;\n",
       "    }\n",
       "\n",
       "    .dataframe thead th {\n",
       "        text-align: right;\n",
       "    }\n",
       "</style>\n",
       "<table border=\"1\" class=\"dataframe\">\n",
       "  <thead>\n",
       "    <tr style=\"text-align: right;\">\n",
       "      <th></th>\n",
       "      <th>Hours</th>\n",
       "      <th>Scores</th>\n",
       "    </tr>\n",
       "  </thead>\n",
       "  <tbody>\n",
       "    <tr>\n",
       "      <th>0</th>\n",
       "      <td>2.5</td>\n",
       "      <td>21</td>\n",
       "    </tr>\n",
       "    <tr>\n",
       "      <th>1</th>\n",
       "      <td>5.1</td>\n",
       "      <td>47</td>\n",
       "    </tr>\n",
       "    <tr>\n",
       "      <th>2</th>\n",
       "      <td>3.2</td>\n",
       "      <td>27</td>\n",
       "    </tr>\n",
       "    <tr>\n",
       "      <th>3</th>\n",
       "      <td>8.5</td>\n",
       "      <td>75</td>\n",
       "    </tr>\n",
       "    <tr>\n",
       "      <th>4</th>\n",
       "      <td>3.5</td>\n",
       "      <td>30</td>\n",
       "    </tr>\n",
       "  </tbody>\n",
       "</table>\n",
       "</div>"
      ],
      "text/plain": [
       "   Hours  Scores\n",
       "0    2.5      21\n",
       "1    5.1      47\n",
       "2    3.2      27\n",
       "3    8.5      75\n",
       "4    3.5      30"
      ]
     },
     "execution_count": 2,
     "metadata": {},
     "output_type": "execute_result"
    }
   ],
   "source": [
    "url_data = 'http://bit.ly/w-data' \n",
    "df = pd.read_csv(url_data)           # directly importing data into pandas DataFrame from given url\n",
    "df.head()"
   ]
  },
  {
   "cell_type": "markdown",
   "id": "73cc4453",
   "metadata": {},
   "source": [
    "### Checking missing values"
   ]
  },
  {
   "cell_type": "code",
   "execution_count": 3,
   "id": "c600cda8",
   "metadata": {},
   "outputs": [
    {
     "name": "stdout",
     "output_type": "stream",
     "text": [
      "Number of null values in Hours column:  0\n",
      "Number of null values in Scores column:  0\n"
     ]
    }
   ],
   "source": [
    "print('Number of null values in Hours column: ',df['Hours'].isnull().sum())\n",
    "print('Number of null values in Scores column: ', df['Scores'].isnull().sum())"
   ]
  },
  {
   "cell_type": "markdown",
   "id": "1f5e9dfc",
   "metadata": {},
   "source": [
    "Here we can see that there are no missing values"
   ]
  },
  {
   "cell_type": "markdown",
   "id": "a8184530",
   "metadata": {},
   "source": [
    "### Model Development"
   ]
  },
  {
   "cell_type": "markdown",
   "id": "0044566f",
   "metadata": {},
   "source": [
    "We will use regression plot to get a visual representation of correlation between scores and hours/day studied"
   ]
  },
  {
   "cell_type": "code",
   "execution_count": 4,
   "id": "848730ef",
   "metadata": {
    "scrolled": true
   },
   "outputs": [
    {
     "data": {
      "text/plain": [
       "<AxesSubplot:xlabel='Hours', ylabel='Scores'>"
      ]
     },
     "execution_count": 4,
     "metadata": {},
     "output_type": "execute_result"
    },
    {
     "data": {
      "image/png": "[encoded data removed]",
      "text/plain": [
       "<Figure size 432x288 with 1 Axes>"
      ]
     },
     "metadata": {
      "needs_background": "light"
     },
     "output_type": "display_data"
    }
   ],
   "source": [
    "sns.regplot(x = 'Hours', y = 'Scores', data = df)"
   ]
  },
  {
   "cell_type": "markdown",
   "id": "95f54187",
   "metadata": {},
   "source": [
    "Using regression plot, we see that scores of students is positively correlated with amount of hours studied and it is linear in nature.\n",
    "\n",
    "Hence we will use linear regression model.\n",
    "_____\n",
    "Now, we will split the data into training and testing part using ${train\\_test\\_split}$ from sklearn model selection"
   ]
  },
  {
   "cell_type": "code",
   "execution_count": 6,
   "id": "6dae0618",
   "metadata": {},
   "outputs": [],
   "source": [
    "x_train, x_test, y_train, y_test = train_test_split(df[['Hours']], df['Scores'], test_size = 0.2)"
   ]
  },
  {
   "cell_type": "markdown",
   "id": "6d402af0",
   "metadata": {},
   "source": [
    "Using ${LinearRegression}$ model from sklear.linear_model"
   ]
  },
  {
   "cell_type": "code",
   "execution_count": 7,
   "id": "fa409e86",
   "metadata": {},
   "outputs": [
    {
     "name": "stdout",
     "output_type": "stream",
     "text": [
      "Mean Squared error is:  26.190837300662587\n",
      "R^2 value is:  0.9569059541584465\n"
     ]
    }
   ],
   "source": [
    "lr = LinearRegression()\n",
    "lr.fit(x_train,y_train)\n",
    "y_hat = lr.predict(x_test)\n",
    "print('Mean Squared error is: ', mean_squared_error(y_hat, y_test))\n",
    "print('R^2 value is: ', lr.score(x_test, y_test))"
   ]
  },
  {
   "cell_type": "markdown",
   "id": "93874240-daf5-4201-8c78-93577f3b6f04",
   "metadata": {},
   "source": [
    "This $R^2$ value tells us that over $95 \\%$ of the scores can be explained by the number of hours one studies"
   ]
  },
  {
   "cell_type": "markdown",
   "id": "705519f8-4112-48e3-b506-9abefb6fdac3",
   "metadata": {},
   "source": [
    "### Predicting score of a person who studies 9.25 hrs/day"
   ]
  },
  {
   "cell_type": "code",
   "execution_count": 8,
   "id": "685b6f47",
   "metadata": {},
   "outputs": [
    {
     "name": "stdout",
     "output_type": "stream",
     "text": [
      "Prediction of score for number of hours studied 9.25 is 91.81758724778899\n"
     ]
    }
   ],
   "source": [
    "hours_per_day = 9.25\n",
    "print('Prediction of score for number of hours studied', hours_per_day, 'is', \n",
    "      lr.predict(np.array([hours_per_day]).reshape(-1,1))[0])"
   ]
  },
  {
   "cell_type": "markdown",
   "id": "2bd12338",
   "metadata": {},
   "source": [
    "### Conclusion :\n",
    "* The linear regression model explains $95\\%$ of the given data\n",
    "* If a student studies for 92.5 hours/day, then, according to our model the score of the student will be approximately 91.82."
   ]
  }
 ],
 "metadata": {
  "kernelspec": {
   "display_name": "Python 3",
   "language": "python",
   "name": "python3"
  },
  "language_info": {
   "codemirror_mode": {
    "name": "ipython",
    "version": 3
   },
   "file_extension": ".py",
   "mimetype": "text/x-python",
   "name": "python",
   "nbconvert_exporter": "python",
   "pygments_lexer": "ipython3",
   "version": "3.8.8"
  }
 },
 "nbformat": 4,
 "nbformat_minor": 5
}
