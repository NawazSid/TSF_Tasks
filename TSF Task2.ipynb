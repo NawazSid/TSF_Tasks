{
 "cells": [
  {
   "cell_type": "markdown",
   "id": "ac2e978e-7242-455b-a415-a010717adad8",
   "metadata": {},
   "source": [
    "# The Sparks Foundation Internship\n",
    "## Task 2 - Data Science and Business Analytics\n",
    "## Prediction Using Unsupervised ML\n",
    "* Predict the optimum number of clusters and represent it visually.\n",
    "* Data can be found at 'https://bit.ly/3kXTdox'."
   ]
  },
  {
   "cell_type": "markdown",
   "id": "8097e990",
   "metadata": {},
   "source": [
    "# Name : Nawaz Siddiqui"
   ]
  },
  {
   "cell_type": "markdown",
   "id": "fd5ef955",
   "metadata": {},
   "source": [
    "### Importing required libraries"
   ]
  },
  {
   "cell_type": "code",
   "execution_count": 1,
   "id": "a82f6ec5-81d2-4d85-8287-804ae2e2d86f",
   "metadata": {},
   "outputs": [],
   "source": [
    "import numpy as np                                       # Required for mathematical operations\n",
    "import pandas as pd                                      # Required for data manupilation and storage\n",
    "import matplotlib.pyplot as plt                          # Required for plotting\n",
    "import seaborn as sns                                    # Required for plotting\n",
    "from sklearn.cluster import KMeans                       # Required for creating ML model\n",
    "from sklearn.preprocessing import StandardScaler         # Required for scaling the data"
   ]
  },
  {
   "cell_type": "markdown",
   "id": "41b08f89",
   "metadata": {},
   "source": [
    "### Reading the data"
   ]
  },
  {
   "cell_type": "code",
   "execution_count": 2,
   "id": "d22f1a81-f75d-41d5-88b8-125c8cc8373a",
   "metadata": {},
   "outputs": [
    {
     "data": {
      "text/html": [
       "<div>\n",
       "<style scoped>\n",
       "    .dataframe tbody tr th:only-of-type {\n",
       "        vertical-align: middle;\n",
       "    }\n",
       "\n",
       "    .dataframe tbody tr th {\n",
       "        vertical-align: top;\n",
       "    }\n",
       "\n",
       "    .dataframe thead th {\n",
       "        text-align: right;\n",
       "    }\n",
       "</style>\n",
       "<table border=\"1\" class=\"dataframe\">\n",
       "  <thead>\n",
       "    <tr style=\"text-align: right;\">\n",
       "      <th></th>\n",
       "      <th>Id</th>\n",
       "      <th>SepalLengthCm</th>\n",
       "      <th>SepalWidthCm</th>\n",
       "      <th>PetalLengthCm</th>\n",
       "      <th>PetalWidthCm</th>\n",
       "      <th>Species</th>\n",
       "    </tr>\n",
       "  </thead>\n",
       "  <tbody>\n",
       "    <tr>\n",
       "      <th>0</th>\n",
       "      <td>1</td>\n",
       "      <td>5.1</td>\n",
       "      <td>3.5</td>\n",
       "      <td>1.4</td>\n",
       "      <td>0.2</td>\n",
       "      <td>Iris-setosa</td>\n",
       "    </tr>\n",
       "    <tr>\n",
       "      <th>1</th>\n",
       "      <td>2</td>\n",
       "      <td>4.9</td>\n",
       "      <td>3.0</td>\n",
       "      <td>1.4</td>\n",
       "      <td>0.2</td>\n",
       "      <td>Iris-setosa</td>\n",
       "    </tr>\n",
       "    <tr>\n",
       "      <th>2</th>\n",
       "      <td>3</td>\n",
       "      <td>4.7</td>\n",
       "      <td>3.2</td>\n",
       "      <td>1.3</td>\n",
       "      <td>0.2</td>\n",
       "      <td>Iris-setosa</td>\n",
       "    </tr>\n",
       "    <tr>\n",
       "      <th>3</th>\n",
       "      <td>4</td>\n",
       "      <td>4.6</td>\n",
       "      <td>3.1</td>\n",
       "      <td>1.5</td>\n",
       "      <td>0.2</td>\n",
       "      <td>Iris-setosa</td>\n",
       "    </tr>\n",
       "    <tr>\n",
       "      <th>4</th>\n",
       "      <td>5</td>\n",
       "      <td>5.0</td>\n",
       "      <td>3.6</td>\n",
       "      <td>1.4</td>\n",
       "      <td>0.2</td>\n",
       "      <td>Iris-setosa</td>\n",
       "    </tr>\n",
       "  </tbody>\n",
       "</table>\n",
       "</div>"
      ],
      "text/plain": [
       "   Id  SepalLengthCm  SepalWidthCm  PetalLengthCm  PetalWidthCm      Species\n",
       "0   1            5.1           3.5            1.4           0.2  Iris-setosa\n",
       "1   2            4.9           3.0            1.4           0.2  Iris-setosa\n",
       "2   3            4.7           3.2            1.3           0.2  Iris-setosa\n",
       "3   4            4.6           3.1            1.5           0.2  Iris-setosa\n",
       "4   5            5.0           3.6            1.4           0.2  Iris-setosa"
      ]
     },
     "execution_count": 2,
     "metadata": {},
     "output_type": "execute_result"
    }
   ],
   "source": [
    "df = pd.read_csv('Iris.csv')      #Loading the data from the file Iris.csv\n",
    "df.head()"
   ]
  },
  {
   "cell_type": "markdown",
   "id": "34e7160a",
   "metadata": {},
   "source": [
    "### Checking missing values"
   ]
  },
  {
   "cell_type": "code",
   "execution_count": 3,
   "id": "f3f36219",
   "metadata": {},
   "outputs": [
    {
     "data": {
      "text/plain": [
       "Id               0\n",
       "SepalLengthCm    0\n",
       "SepalWidthCm     0\n",
       "PetalLengthCm    0\n",
       "PetalWidthCm     0\n",
       "Species          0\n",
       "dtype: int64"
      ]
     },
     "execution_count": 3,
     "metadata": {},
     "output_type": "execute_result"
    }
   ],
   "source": [
    "df.isnull().sum()"
   ]
  },
  {
   "cell_type": "markdown",
   "id": "04917c39",
   "metadata": {},
   "source": [
    "Here we can see that there are no missing values"
   ]
  },
  {
   "cell_type": "markdown",
   "id": "56d4b336",
   "metadata": {},
   "source": [
    "### Outlier Detection"
   ]
  },
  {
   "cell_type": "code",
   "execution_count": 4,
   "id": "68753712",
   "metadata": {},
   "outputs": [
    {
     "data": {
      "text/plain": [
       "<AxesSubplot:ylabel='PetalWidthCm'>"
      ]
     },
     "execution_count": 4,
     "metadata": {},
     "output_type": "execute_result"
    },
    {
     "data": {
      "image/png": "[encoded data removed]",
      "text/plain": [
       "<Figure size 1080x360 with 4 Axes>"
      ]
     },
     "metadata": {
      "needs_background": "light"
     },
     "output_type": "display_data"
    }
   ],
   "source": [
    "plt.rcParams[\"figure.figsize\"] = (15,5)\n",
    "f, axes = plt.subplots(1,4)\n",
    "sns.boxplot(y = 'SepalLengthCm', data = df, ax = axes[0])\n",
    "sns.boxplot(y = 'SepalWidthCm', data = df, ax = axes[1])\n",
    "sns.boxplot(y = 'PetalLengthCm', data = df, ax = axes[2])\n",
    "sns.boxplot(y = 'PetalWidthCm', data = df, ax = axes[3])"
   ]
  },
  {
   "cell_type": "markdown",
   "id": "f9f3a31f",
   "metadata": {},
   "source": [
    "There are only 4 outliers, hence we can ignore it"
   ]
  },
  {
   "cell_type": "markdown",
   "id": "418ee703",
   "metadata": {},
   "source": [
    "### Scaling the data"
   ]
  },
  {
   "cell_type": "markdown",
   "id": "47475953",
   "metadata": {},
   "source": [
    "To give equal importance to all features, we need to scale the features. For this we will be using scikit-learn’s StandardScaler."
   ]
  },
  {
   "cell_type": "code",
   "execution_count": 5,
   "id": "821718dd",
   "metadata": {},
   "outputs": [],
   "source": [
    "df.drop(['Id','Species'],axis = 1,inplace = True)   #Since we don't need Id and Species data\n",
    "ss = StandardScaler()\n",
    "ss.fit(df)\n",
    "data_transformed = ss.transform(df)"
   ]
  },
  {
   "cell_type": "markdown",
   "id": "31678bc6",
   "metadata": {},
   "source": [
    "### Elbow Method (To predict the optimum number of clusters)"
   ]
  },
  {
   "cell_type": "code",
   "execution_count": 6,
   "id": "2c208bec",
   "metadata": {},
   "outputs": [
    {
     "name": "stderr",
     "output_type": "stream",
     "text": [
      "C:\\Users\\nawaz\\anaconda3\\lib\\site-packages\\sklearn\\cluster\\_kmeans.py:881: UserWarning: KMeans is known to have a memory leak on Windows with MKL, when there are less chunks than available threads. You can avoid it by setting the environment variable OMP_NUM_THREADS=1.\n",
      "  warnings.warn(\n"
     ]
    },
    {
     "data": {
      "image/png": "[encoded data removed]",
      "text/plain": [
       "<Figure size 720x360 with 1 Axes>"
      ]
     },
     "metadata": {
      "needs_background": "light"
     },
     "output_type": "display_data"
    }
   ],
   "source": [
    "Sum_of_squared_distances = []\n",
    "K = range(1,15)\n",
    "for k in K:\n",
    "    km = KMeans(n_clusters=k)\n",
    "    km = km.fit(data_transformed)\n",
    "    Sum_of_squared_distances.append(km.inertia_)\n",
    "plt.rcParams[\"figure.figsize\"] = (10,5)\n",
    "plt.plot(K, Sum_of_squared_distances,'bo-')\n",
    "plt.xlabel('Values of K') \n",
    "plt.ylabel('Sum of squared distances') \n",
    "plt.title('Elbow Method For Optimal k')\n",
    "plt.show()"
   ]
  },
  {
   "cell_type": "markdown",
   "id": "85294041",
   "metadata": {},
   "source": [
    "Elbow method states that the optimal number of clusters is at the point where Sum_of_squared_distance doesn't change significantly with each iteration.\n",
    "\n",
    "Here, we can see that the Sum_of_squared_distance doesn't change significantly when K = 3\n",
    "\n",
    "Hence K = 3 is the optimal value."
   ]
  },
  {
   "cell_type": "markdown",
   "id": "03db8c01",
   "metadata": {},
   "source": [
    "### Visualizing the cluster"
   ]
  },
  {
   "cell_type": "code",
   "execution_count": 7,
   "id": "11827581",
   "metadata": {},
   "outputs": [],
   "source": [
    "kmeans = KMeans(n_clusters = 3, random_state = 0)\n",
    "km = kmeans.fit_predict(data_transformed)"
   ]
  },
  {
   "cell_type": "code",
   "execution_count": 8,
   "id": "38fb87ce",
   "metadata": {
    "scrolled": true
   },
   "outputs": [
    {
     "data": {
      "image/png": "[encoded data removed]",
      "text/plain": [
       "<Figure size 720x360 with 1 Axes>"
      ]
     },
     "metadata": {
      "needs_background": "light"
     },
     "output_type": "display_data"
    }
   ],
   "source": [
    "plt.rcParams[\"figure.figsize\"] = (10,5)\n",
    "\n",
    "plt.scatter(data_transformed[km == 0,0 ],data_transformed[km == 0,1 ], label='Iris-setosa')\n",
    "plt.scatter(data_transformed[km == 1,0 ],data_transformed[km == 1,1 ], label='Iris-versicolour')\n",
    "plt.scatter(data_transformed[km == 2,0 ],data_transformed[km == 2,1 ], label='Iris-virginica')\n",
    "\n",
    "plt.scatter(kmeans.cluster_centers_[:,0], kmeans.cluster_centers_[:,1], s=60,color='purple', marker='*', label=\"Centroid\")\n",
    "plt.legend()\n",
    "plt.show()"
   ]
  },
  {
   "cell_type": "markdown",
   "id": "ee010f99",
   "metadata": {},
   "source": [
    "### Conclusion : \n",
    "* The number of optimum clusters for the given Iris Dataset is 3"
   ]
  }
 ],
 "metadata": {
  "kernelspec": {
   "display_name": "Python 3",
   "language": "python",
   "name": "python3"
  },
  "language_info": {
   "codemirror_mode": {
    "name": "ipython",
    "version": 3
   },
   "file_extension": ".py",
   "mimetype": "text/x-python",
   "name": "python",
   "nbconvert_exporter": "python",
   "pygments_lexer": "ipython3",
   "version": "3.8.8"
  }
 },
 "nbformat": 4,
 "nbformat_minor": 5
}
